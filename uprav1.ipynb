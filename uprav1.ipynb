{
 "cells": [
  {
   "cell_type": "markdown",
   "metadata": {},
   "source": [
    "### Задание 1: Выведение на экран нужных букв."
   ]
  },
  {
   "cell_type": "code",
   "execution_count": 1,
   "metadata": {},
   "outputs": [
    {
     "name": "stdout",
     "output_type": "stream",
     "text": [
      "privet\n",
      "2 средних буквы -  iv\n",
      "Конец программы.\n"
     ]
    }
   ],
   "source": [
    "word = input() #Ввести любое слово\n",
    "word_1 = len(word) / 2\n",
    "if len(word) % 2 != 0:\n",
    "    print('средняя буква - ', word[int(word_1):int(word_1)+1])\n",
    "elif len(word) % 2 == 0:\n",
    "    print('2 средних буквы - ', word[int(word_1)-1:int(word_1)+1])\n",
    "print('Конец программы.')"
   ]
  },
  {
   "cell_type": "markdown",
   "metadata": {},
   "source": [
    "### Задание 2: Использование цикла для выведение на экран нужных чисел и их суммы."
   ]
  },
  {
   "cell_type": "code",
   "execution_count": null,
   "metadata": {},
   "outputs": [],
   "source": [
    "number = int(input()) #вводим любое кол-во чисел; при вводе 0 цикл завершается.\n",
    "s_number = 0\n",
    "while number != 0:\n",
    "    s_number += number\n",
    "    number = int(input())\n",
    "print('сумма всех чисел - ', s_number)\n",
    "print('Конец программы.')"
   ]
  },
  {
   "cell_type": "markdown",
   "metadata": {},
   "source": [
    "### Задание 3: Работа со списками."
   ]
  },
  {
   "cell_type": "code",
   "execution_count": null,
   "metadata": {},
   "outputs": [],
   "source": [
    "# задаем нужное кол - во имен в списках.\n",
    "boys = input().split(',')\n",
    "girls = input().split(',')\n",
    "if len(boys) == len(girls):\n",
    "    print('Идеальные пары:')\n",
    "    for perfect_couples in sorted(list(zip(boys, girls))):\n",
    "        print(f'{perfect_couples[0]} и {perfect_couples[1]}') \n",
    "elif len(boys) != len(girls):\n",
    "    print('Внимание, кто-то может остаться без пары!')\n",
    "print('Конец программы.')"
   ]
  },
  {
   "cell_type": "markdown",
   "metadata": {},
   "source": [
    "### Задание 4: Вычисление средней температуры в цельсиях."
   ]
  },
  {
   "cell_type": "code",
   "execution_count": 1,
   "metadata": {},
   "outputs": [
    {
     "name": "stdout",
     "output_type": "stream",
     "text": [
      "Средняя температура в странах:\n",
      "Thailand - 23.9 C\n",
      "Germany - 13.8 C\n",
      "Russia - 3.7 C\n",
      "Poland - 12.0 C\n",
      "Конец программы.\n"
     ]
    }
   ],
   "source": [
    "# Дана средняя температура в Фаренгейтах, ответ нужно получить в Цельсиях. \n",
    "# Формула для конвертирования: ( a°F − 32) / 1.8 = b°C \n",
    "countries_temperature = [\n",
    "    ['Thailand', [75.2, 77, 78.8, 73.4, 68, 75.2, 77]],\n",
    "    ['Germany', [57.2, 55.4, 59, 59, 53.6]],\n",
    "    ['Russia', [35.6, 37.4, 39.2, 41, 42.8, 39.2, 35.6]],\n",
    "    ['Poland', [50, 50, 53.6, 57.2, 55.4, 55.4]]\n",
    "]\n",
    "print('Средняя температура в странах:')\n",
    "for country_name, country_temperature in list(countries_temperature):\n",
    "    average_temperature = sum(country_temperature) / len(country_temperature)\n",
    "    print(f'{country_name} - {round((average_temperature - 32) / 1.8, 1)} C')\n",
    "print('Конец программы.')"
   ]
  },
  {
   "cell_type": "markdown",
   "metadata": {},
   "source": [
    "### Задание 5."
   ]
  },
  {
   "cell_type": "markdown",
   "metadata": {},
   "source": [
    "Дан поток логов по количеству просмотренных страниц для каждого пользователя. Вам необходимо написать алгоритм, который считает среднее значение просмотров на пользователя. Т. е. надо посчитать отношение суммы всех просмотров к количеству уникальных пользователей."
   ]
  },
  {
   "cell_type": "code",
   "execution_count": 1,
   "metadata": {},
   "outputs": [],
   "source": [
    "stream = [\n",
    "'2018-01-01,user1,3',\n",
    "'2018-01-07,user1,4',\n",
    "'2018-03-29,user1,1',\n",
    "'2018-04-04,user1,13',\n",
    "'2018-01-05,user2,7',\n",
    "'2018-06-14,user3,4',\n",
    "'2018-07-02,user3,10',\n",
    "'2018-03-21,user4,19',\n",
    "'2018-03-22,user4,4',\n",
    "'2018-04-22,user4,8',\n",
    "'2018-05-03,user4,9',\n",
    "'2018-05-11,user4,11',\n",
    "]"
   ]
  },
  {
   "cell_type": "code",
   "execution_count": 11,
   "metadata": {},
   "outputs": [
    {
     "name": "stdout",
     "output_type": "stream",
     "text": [
      "Cреднее значение просмотров на пользователя: 23.25\n"
     ]
    }
   ],
   "source": [
    "views_count = 0\n",
    "users = []\n",
    "for x in stream:\n",
    "    y = x.split(',')\n",
    "    views_count += int(y[2])\n",
    "    if y[1] not in users:\n",
    "        users.append(y[1])\n",
    "print('Cреднее значение просмотров на пользователя:', round(views_count / len(users), 2))"
   ]
  },
  {
   "cell_type": "markdown",
   "metadata": {},
   "source": [
    "### Задание 6."
   ]
  },
  {
   "cell_type": "markdown",
   "metadata": {},
   "source": [
    "Необходимо у пользователя запрашивать набор чисел разделенных пробелом. В результате должны выводиться числа, которые повторяются в вводе более одного раза."
   ]
  },
  {
   "cell_type": "code",
   "execution_count": 52,
   "metadata": {},
   "outputs": [
    {
     "name": "stdout",
     "output_type": "stream",
     "text": [
      "Ввести список чисел через проблел по типу \"4 8 0 3 4 2 0 3\": 1 1 2 2 3 4 5\n",
      "1 2 "
     ]
    }
   ],
   "source": [
    "integers = [int(i) for i in input('Ввести список чисел через проблел по типу \"4 8 0 3 4 2 0 3\": ').split()]\n",
    "lst = []\n",
    "integers.sort()\n",
    "len_int = len(integers) - 1\n",
    "k = 100000\n",
    "if len(integers) != 1:\n",
    "    for i in range(0, len_int):\n",
    "        if integers[i] == integers[i + 1] and integers[i] != k:\n",
    "            lst.append(integers[i])\n",
    "            k = integers[i]\n",
    "    for j in range(len_int, len_int + 1):\n",
    "        if integers[-1] == integers[-2] and integers[j] != k:\n",
    "            lst.append(integers[j])\n",
    "len_list = len(lst)\n",
    "for x in range(0, len_list):\n",
    "    print(lst[x], end=' ')"
   ]
  }
 ],
 "metadata": {
  "kernelspec": {
   "display_name": "Python 3",
   "language": "python",
   "name": "python3"
  },
  "language_info": {
   "codemirror_mode": {
    "name": "ipython",
    "version": 3
   },
   "file_extension": ".py",
   "mimetype": "text/x-python",
   "name": "python",
   "nbconvert_exporter": "python",
   "pygments_lexer": "ipython3",
   "version": "3.8.5"
  }
 },
 "nbformat": 4,
 "nbformat_minor": 4
}
